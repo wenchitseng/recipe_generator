{
 "cells": [
  {
   "cell_type": "markdown",
   "metadata": {},
   "source": [
    "# Import Packages"
   ]
  },
  {
   "cell_type": "code",
   "execution_count": 1,
   "metadata": {
    "scrolled": true
   },
   "outputs": [
    {
     "name": "stdout",
     "output_type": "stream",
     "text": [
      "Requirement already satisfied: gensim in /Library/Frameworks/Python.framework/Versions/3.12/lib/python3.12/site-packages (4.3.2)\n",
      "Requirement already satisfied: numpy>=1.18.5 in /Library/Frameworks/Python.framework/Versions/3.12/lib/python3.12/site-packages (from gensim) (1.26.1)\n",
      "Requirement already satisfied: scipy>=1.7.0 in /Library/Frameworks/Python.framework/Versions/3.12/lib/python3.12/site-packages (from gensim) (1.11.4)\n",
      "Requirement already satisfied: smart-open>=1.8.1 in /Library/Frameworks/Python.framework/Versions/3.12/lib/python3.12/site-packages (from gensim) (6.4.0)\n",
      "\n",
      "\u001b[1m[\u001b[0m\u001b[34;49mnotice\u001b[0m\u001b[1;39;49m]\u001b[0m\u001b[39;49m A new release of pip is available: \u001b[0m\u001b[31;49m24.0\u001b[0m\u001b[39;49m -> \u001b[0m\u001b[32;49m24.1\u001b[0m\n",
      "\u001b[1m[\u001b[0m\u001b[34;49mnotice\u001b[0m\u001b[1;39;49m]\u001b[0m\u001b[39;49m To update, run: \u001b[0m\u001b[32;49mpip install --upgrade pip\u001b[0m\n",
      "Requirement already satisfied: spacy in /Library/Frameworks/Python.framework/Versions/3.12/lib/python3.12/site-packages (3.7.4)\n",
      "Requirement already satisfied: spacy-legacy<3.1.0,>=3.0.11 in /Library/Frameworks/Python.framework/Versions/3.12/lib/python3.12/site-packages (from spacy) (3.0.12)\n",
      "Requirement already satisfied: spacy-loggers<2.0.0,>=1.0.0 in /Library/Frameworks/Python.framework/Versions/3.12/lib/python3.12/site-packages (from spacy) (1.0.5)\n",
      "Requirement already satisfied: murmurhash<1.1.0,>=0.28.0 in /Library/Frameworks/Python.framework/Versions/3.12/lib/python3.12/site-packages (from spacy) (1.0.10)\n",
      "Requirement already satisfied: cymem<2.1.0,>=2.0.2 in /Library/Frameworks/Python.framework/Versions/3.12/lib/python3.12/site-packages (from spacy) (2.0.8)\n",
      "Requirement already satisfied: preshed<3.1.0,>=3.0.2 in /Library/Frameworks/Python.framework/Versions/3.12/lib/python3.12/site-packages (from spacy) (3.0.9)\n",
      "Requirement already satisfied: thinc<8.3.0,>=8.2.2 in /Library/Frameworks/Python.framework/Versions/3.12/lib/python3.12/site-packages (from spacy) (8.2.3)\n",
      "Requirement already satisfied: wasabi<1.2.0,>=0.9.1 in /Library/Frameworks/Python.framework/Versions/3.12/lib/python3.12/site-packages (from spacy) (1.1.2)\n",
      "Requirement already satisfied: srsly<3.0.0,>=2.4.3 in /Library/Frameworks/Python.framework/Versions/3.12/lib/python3.12/site-packages (from spacy) (2.4.8)\n",
      "Requirement already satisfied: catalogue<2.1.0,>=2.0.6 in /Library/Frameworks/Python.framework/Versions/3.12/lib/python3.12/site-packages (from spacy) (2.0.10)\n",
      "Requirement already satisfied: weasel<0.4.0,>=0.1.0 in /Library/Frameworks/Python.framework/Versions/3.12/lib/python3.12/site-packages (from spacy) (0.3.4)\n",
      "Requirement already satisfied: typer<0.10.0,>=0.3.0 in /Library/Frameworks/Python.framework/Versions/3.12/lib/python3.12/site-packages (from spacy) (0.9.0)\n",
      "Requirement already satisfied: smart-open<7.0.0,>=5.2.1 in /Library/Frameworks/Python.framework/Versions/3.12/lib/python3.12/site-packages (from spacy) (6.4.0)\n",
      "Requirement already satisfied: tqdm<5.0.0,>=4.38.0 in /Library/Frameworks/Python.framework/Versions/3.12/lib/python3.12/site-packages (from spacy) (4.66.2)\n",
      "Requirement already satisfied: requests<3.0.0,>=2.13.0 in /Library/Frameworks/Python.framework/Versions/3.12/lib/python3.12/site-packages (from spacy) (2.31.0)\n",
      "Requirement already satisfied: pydantic!=1.8,!=1.8.1,<3.0.0,>=1.7.4 in /Library/Frameworks/Python.framework/Versions/3.12/lib/python3.12/site-packages (from spacy) (2.6.3)\n",
      "Requirement already satisfied: jinja2 in /Library/Frameworks/Python.framework/Versions/3.12/lib/python3.12/site-packages (from spacy) (3.1.2)\n",
      "Requirement already satisfied: setuptools in /Library/Frameworks/Python.framework/Versions/3.12/lib/python3.12/site-packages (from spacy) (68.2.2)\n",
      "Requirement already satisfied: packaging>=20.0 in /Library/Frameworks/Python.framework/Versions/3.12/lib/python3.12/site-packages (from spacy) (23.2)\n",
      "Requirement already satisfied: langcodes<4.0.0,>=3.2.0 in /Library/Frameworks/Python.framework/Versions/3.12/lib/python3.12/site-packages (from spacy) (3.3.0)\n",
      "Requirement already satisfied: numpy>=1.19.0 in /Library/Frameworks/Python.framework/Versions/3.12/lib/python3.12/site-packages (from spacy) (1.26.1)\n",
      "Requirement already satisfied: annotated-types>=0.4.0 in /Library/Frameworks/Python.framework/Versions/3.12/lib/python3.12/site-packages (from pydantic!=1.8,!=1.8.1,<3.0.0,>=1.7.4->spacy) (0.6.0)\n",
      "Requirement already satisfied: pydantic-core==2.16.3 in /Library/Frameworks/Python.framework/Versions/3.12/lib/python3.12/site-packages (from pydantic!=1.8,!=1.8.1,<3.0.0,>=1.7.4->spacy) (2.16.3)\n",
      "Requirement already satisfied: typing-extensions>=4.6.1 in /Library/Frameworks/Python.framework/Versions/3.12/lib/python3.12/site-packages (from pydantic!=1.8,!=1.8.1,<3.0.0,>=1.7.4->spacy) (4.8.0)\n",
      "Requirement already satisfied: charset-normalizer<4,>=2 in /Library/Frameworks/Python.framework/Versions/3.12/lib/python3.12/site-packages (from requests<3.0.0,>=2.13.0->spacy) (3.3.0)\n",
      "Requirement already satisfied: idna<4,>=2.5 in /Library/Frameworks/Python.framework/Versions/3.12/lib/python3.12/site-packages (from requests<3.0.0,>=2.13.0->spacy) (3.4)\n",
      "Requirement already satisfied: urllib3<3,>=1.21.1 in /Library/Frameworks/Python.framework/Versions/3.12/lib/python3.12/site-packages (from requests<3.0.0,>=2.13.0->spacy) (2.0.7)\n",
      "Requirement already satisfied: certifi>=2017.4.17 in /Library/Frameworks/Python.framework/Versions/3.12/lib/python3.12/site-packages (from requests<3.0.0,>=2.13.0->spacy) (2024.2.2)\n",
      "Requirement already satisfied: blis<0.8.0,>=0.7.8 in /Library/Frameworks/Python.framework/Versions/3.12/lib/python3.12/site-packages (from thinc<8.3.0,>=8.2.2->spacy) (0.7.11)\n",
      "Requirement already satisfied: confection<1.0.0,>=0.0.1 in /Library/Frameworks/Python.framework/Versions/3.12/lib/python3.12/site-packages (from thinc<8.3.0,>=8.2.2->spacy) (0.1.4)\n",
      "Requirement already satisfied: click<9.0.0,>=7.1.1 in /Library/Frameworks/Python.framework/Versions/3.12/lib/python3.12/site-packages (from typer<0.10.0,>=0.3.0->spacy) (8.1.7)\n",
      "Requirement already satisfied: cloudpathlib<0.17.0,>=0.7.0 in /Library/Frameworks/Python.framework/Versions/3.12/lib/python3.12/site-packages (from weasel<0.4.0,>=0.1.0->spacy) (0.16.0)\n",
      "Requirement already satisfied: MarkupSafe>=2.0 in /Library/Frameworks/Python.framework/Versions/3.12/lib/python3.12/site-packages (from jinja2->spacy) (2.1.3)\n",
      "\n",
      "\u001b[1m[\u001b[0m\u001b[34;49mnotice\u001b[0m\u001b[1;39;49m]\u001b[0m\u001b[39;49m A new release of pip is available: \u001b[0m\u001b[31;49m24.0\u001b[0m\u001b[39;49m -> \u001b[0m\u001b[32;49m24.1\u001b[0m\n",
      "\u001b[1m[\u001b[0m\u001b[34;49mnotice\u001b[0m\u001b[1;39;49m]\u001b[0m\u001b[39;49m To update, run: \u001b[0m\u001b[32;49mpip install --upgrade pip\u001b[0m\n",
      "Requirement already satisfied: streamlit in /Library/Frameworks/Python.framework/Versions/3.12/lib/python3.12/site-packages (1.32.2)\n",
      "Requirement already satisfied: altair<6,>=4.0 in /Library/Frameworks/Python.framework/Versions/3.12/lib/python3.12/site-packages (from streamlit) (5.2.0)\n",
      "Requirement already satisfied: blinker<2,>=1.0.0 in /Library/Frameworks/Python.framework/Versions/3.12/lib/python3.12/site-packages (from streamlit) (1.7.0)\n",
      "Requirement already satisfied: cachetools<6,>=4.0 in /Library/Frameworks/Python.framework/Versions/3.12/lib/python3.12/site-packages (from streamlit) (5.3.3)\n",
      "Requirement already satisfied: click<9,>=7.0 in /Library/Frameworks/Python.framework/Versions/3.12/lib/python3.12/site-packages (from streamlit) (8.1.7)\n",
      "Requirement already satisfied: numpy<2,>=1.19.3 in /Library/Frameworks/Python.framework/Versions/3.12/lib/python3.12/site-packages (from streamlit) (1.26.1)\n",
      "Requirement already satisfied: packaging<24,>=16.8 in /Library/Frameworks/Python.framework/Versions/3.12/lib/python3.12/site-packages (from streamlit) (23.2)\n",
      "Requirement already satisfied: pandas<3,>=1.3.0 in /Library/Frameworks/Python.framework/Versions/3.12/lib/python3.12/site-packages (from streamlit) (2.1.2)\n",
      "Requirement already satisfied: pillow<11,>=7.1.0 in /Library/Frameworks/Python.framework/Versions/3.12/lib/python3.12/site-packages (from streamlit) (10.1.0)\n",
      "Requirement already satisfied: protobuf<5,>=3.20 in /Library/Frameworks/Python.framework/Versions/3.12/lib/python3.12/site-packages (from streamlit) (4.25.3)\n",
      "Requirement already satisfied: pyarrow>=7.0 in /Library/Frameworks/Python.framework/Versions/3.12/lib/python3.12/site-packages (from streamlit) (15.0.1)\n",
      "Requirement already satisfied: requests<3,>=2.27 in /Library/Frameworks/Python.framework/Versions/3.12/lib/python3.12/site-packages (from streamlit) (2.31.0)\n",
      "Requirement already satisfied: rich<14,>=10.14.0 in /Library/Frameworks/Python.framework/Versions/3.12/lib/python3.12/site-packages (from streamlit) (13.7.1)\n",
      "Requirement already satisfied: tenacity<9,>=8.1.0 in /Library/Frameworks/Python.framework/Versions/3.12/lib/python3.12/site-packages (from streamlit) (8.2.3)\n",
      "Requirement already satisfied: toml<2,>=0.10.1 in /Library/Frameworks/Python.framework/Versions/3.12/lib/python3.12/site-packages (from streamlit) (0.10.2)\n",
      "Requirement already satisfied: typing-extensions<5,>=4.3.0 in /Library/Frameworks/Python.framework/Versions/3.12/lib/python3.12/site-packages (from streamlit) (4.8.0)\n",
      "Requirement already satisfied: gitpython!=3.1.19,<4,>=3.0.7 in /Library/Frameworks/Python.framework/Versions/3.12/lib/python3.12/site-packages (from streamlit) (3.1.42)\n",
      "Requirement already satisfied: pydeck<1,>=0.8.0b4 in /Library/Frameworks/Python.framework/Versions/3.12/lib/python3.12/site-packages (from streamlit) (0.8.1b0)\n",
      "Requirement already satisfied: tornado<7,>=6.0.3 in /Library/Frameworks/Python.framework/Versions/3.12/lib/python3.12/site-packages (from streamlit) (6.3.3)\n",
      "Requirement already satisfied: jinja2 in /Library/Frameworks/Python.framework/Versions/3.12/lib/python3.12/site-packages (from altair<6,>=4.0->streamlit) (3.1.2)\n",
      "Requirement already satisfied: jsonschema>=3.0 in /Library/Frameworks/Python.framework/Versions/3.12/lib/python3.12/site-packages (from altair<6,>=4.0->streamlit) (4.19.1)\n",
      "Requirement already satisfied: toolz in /Library/Frameworks/Python.framework/Versions/3.12/lib/python3.12/site-packages (from altair<6,>=4.0->streamlit) (0.12.1)\n",
      "Requirement already satisfied: gitdb<5,>=4.0.1 in /Library/Frameworks/Python.framework/Versions/3.12/lib/python3.12/site-packages (from gitpython!=3.1.19,<4,>=3.0.7->streamlit) (4.0.11)\n",
      "Requirement already satisfied: python-dateutil>=2.8.2 in /Library/Frameworks/Python.framework/Versions/3.12/lib/python3.12/site-packages (from pandas<3,>=1.3.0->streamlit) (2.8.2)\n",
      "Requirement already satisfied: pytz>=2020.1 in /Library/Frameworks/Python.framework/Versions/3.12/lib/python3.12/site-packages (from pandas<3,>=1.3.0->streamlit) (2023.3.post1)\n",
      "Requirement already satisfied: tzdata>=2022.1 in /Library/Frameworks/Python.framework/Versions/3.12/lib/python3.12/site-packages (from pandas<3,>=1.3.0->streamlit) (2023.3)\n",
      "Requirement already satisfied: charset-normalizer<4,>=2 in /Library/Frameworks/Python.framework/Versions/3.12/lib/python3.12/site-packages (from requests<3,>=2.27->streamlit) (3.3.0)\n",
      "Requirement already satisfied: idna<4,>=2.5 in /Library/Frameworks/Python.framework/Versions/3.12/lib/python3.12/site-packages (from requests<3,>=2.27->streamlit) (3.4)\n",
      "Requirement already satisfied: urllib3<3,>=1.21.1 in /Library/Frameworks/Python.framework/Versions/3.12/lib/python3.12/site-packages (from requests<3,>=2.27->streamlit) (2.0.7)\n",
      "Requirement already satisfied: certifi>=2017.4.17 in /Library/Frameworks/Python.framework/Versions/3.12/lib/python3.12/site-packages (from requests<3,>=2.27->streamlit) (2024.2.2)\n",
      "Requirement already satisfied: markdown-it-py>=2.2.0 in /Library/Frameworks/Python.framework/Versions/3.12/lib/python3.12/site-packages (from rich<14,>=10.14.0->streamlit) (3.0.0)\n",
      "Requirement already satisfied: pygments<3.0.0,>=2.13.0 in /Library/Frameworks/Python.framework/Versions/3.12/lib/python3.12/site-packages (from rich<14,>=10.14.0->streamlit) (2.16.1)\n",
      "Requirement already satisfied: smmap<6,>=3.0.1 in /Library/Frameworks/Python.framework/Versions/3.12/lib/python3.12/site-packages (from gitdb<5,>=4.0.1->gitpython!=3.1.19,<4,>=3.0.7->streamlit) (5.0.1)\n",
      "Requirement already satisfied: MarkupSafe>=2.0 in /Library/Frameworks/Python.framework/Versions/3.12/lib/python3.12/site-packages (from jinja2->altair<6,>=4.0->streamlit) (2.1.3)\n",
      "Requirement already satisfied: attrs>=22.2.0 in /Library/Frameworks/Python.framework/Versions/3.12/lib/python3.12/site-packages (from jsonschema>=3.0->altair<6,>=4.0->streamlit) (23.1.0)\n",
      "Requirement already satisfied: jsonschema-specifications>=2023.03.6 in /Library/Frameworks/Python.framework/Versions/3.12/lib/python3.12/site-packages (from jsonschema>=3.0->altair<6,>=4.0->streamlit) (2023.7.1)\n",
      "Requirement already satisfied: referencing>=0.28.4 in /Library/Frameworks/Python.framework/Versions/3.12/lib/python3.12/site-packages (from jsonschema>=3.0->altair<6,>=4.0->streamlit) (0.30.2)\n",
      "Requirement already satisfied: rpds-py>=0.7.1 in /Library/Frameworks/Python.framework/Versions/3.12/lib/python3.12/site-packages (from jsonschema>=3.0->altair<6,>=4.0->streamlit) (0.10.6)\n",
      "Requirement already satisfied: mdurl~=0.1 in /Library/Frameworks/Python.framework/Versions/3.12/lib/python3.12/site-packages (from markdown-it-py>=2.2.0->rich<14,>=10.14.0->streamlit) (0.1.2)\n",
      "Requirement already satisfied: six>=1.5 in /Library/Frameworks/Python.framework/Versions/3.12/lib/python3.12/site-packages (from python-dateutil>=2.8.2->pandas<3,>=1.3.0->streamlit) (1.16.0)\n",
      "\n",
      "\u001b[1m[\u001b[0m\u001b[34;49mnotice\u001b[0m\u001b[1;39;49m]\u001b[0m\u001b[39;49m A new release of pip is available: \u001b[0m\u001b[31;49m24.0\u001b[0m\u001b[39;49m -> \u001b[0m\u001b[32;49m24.1\u001b[0m\n",
      "\u001b[1m[\u001b[0m\u001b[34;49mnotice\u001b[0m\u001b[1;39;49m]\u001b[0m\u001b[39;49m To update, run: \u001b[0m\u001b[32;49mpip install --upgrade pip\u001b[0m\n"
     ]
    }
   ],
   "source": [
    "!pip install gensim\n",
    "!pip install spacy\n",
    "!pip install streamlit"
   ]
  },
  {
   "cell_type": "code",
   "execution_count": 2,
   "metadata": {},
   "outputs": [],
   "source": [
    "# Data handling\n",
    "import json\n",
    "import pandas as pd\n",
    "import numpy as np\n",
    "import pickle\n",
    "\n",
    "# NLP\n",
    "import spacy\n",
    "from sklearn.feature_extraction.text import TfidfVectorizer\n",
    "from sklearn.decomposition import TruncatedSVD\n",
    "from sklearn.metrics.pairwise import cosine_similarity\n",
    "import re\n",
    "\n",
    "# Model building\n",
    "from sklearn.model_selection import GridSearchCV\n",
    "from sklearn.pipeline import Pipeline\n",
    "\n",
    "# Interface\n",
    "import streamlit as st"
   ]
  },
  {
   "cell_type": "markdown",
   "metadata": {},
   "source": [
    "# Import data and format it"
   ]
  },
  {
   "cell_type": "code",
   "execution_count": 4,
   "metadata": {},
   "outputs": [
    {
     "data": {
      "text/html": [
       "<div>\n",
       "<style scoped>\n",
       "    .dataframe tbody tr th:only-of-type {\n",
       "        vertical-align: middle;\n",
       "    }\n",
       "\n",
       "    .dataframe tbody tr th {\n",
       "        vertical-align: top;\n",
       "    }\n",
       "\n",
       "    .dataframe thead th {\n",
       "        text-align: right;\n",
       "    }\n",
       "</style>\n",
       "<table border=\"1\" class=\"dataframe\">\n",
       "  <thead>\n",
       "    <tr style=\"text-align: right;\">\n",
       "      <th></th>\n",
       "      <th>title</th>\n",
       "      <th>ingredients</th>\n",
       "      <th>instructions</th>\n",
       "      <th>picture_link</th>\n",
       "    </tr>\n",
       "  </thead>\n",
       "  <tbody>\n",
       "    <tr>\n",
       "      <th>0</th>\n",
       "      <td>Slow Cooker Chicken and Dumplings</td>\n",
       "      <td>(4 skinless, boneless chicken breast halves, 2...</td>\n",
       "      <td>Place the chicken, butter, soup, and onion in ...</td>\n",
       "      <td>55lznCYBbs2mT8BTx6BTkLhynGHzM.S</td>\n",
       "    </tr>\n",
       "    <tr>\n",
       "      <th>1</th>\n",
       "      <td>Awesome Slow Cooker Pot Roast</td>\n",
       "      <td>(2 (10.75 ounce) cans condensed cream of mushr...</td>\n",
       "      <td>In a slow cooker, mix cream of mushroom soup, ...</td>\n",
       "      <td>QyrvGdGNMBA2lDdciY0FjKu.77MM0Oe</td>\n",
       "    </tr>\n",
       "    <tr>\n",
       "      <th>2</th>\n",
       "      <td>Brown Sugar Meatloaf</td>\n",
       "      <td>(1/2 cup packed brown sugar, 1/2 cup ketchup, ...</td>\n",
       "      <td>Preheat oven to 350 degrees F (175 degrees C)....</td>\n",
       "      <td>LVW1DI0vtlCrpAhNSEQysE9i/7rJG56</td>\n",
       "    </tr>\n",
       "    <tr>\n",
       "      <th>3</th>\n",
       "      <td>Best Chocolate Chip Cookies</td>\n",
       "      <td>(1 cup butter, softened, 1 cup white sugar, 1 ...</td>\n",
       "      <td>Preheat oven to 350 degrees F (175 degrees C)....</td>\n",
       "      <td>0SO5kdWOV94j6EfAVwMMYRM3yNN8eRi</td>\n",
       "    </tr>\n",
       "    <tr>\n",
       "      <th>4</th>\n",
       "      <td>Homemade Mac and Cheese Casserole</td>\n",
       "      <td>(8 ounces whole wheat rotini pasta, 3 cups fre...</td>\n",
       "      <td>Preheat oven to 350 degrees F. Line a 2-quart ...</td>\n",
       "      <td>YCnbhplMgiraW4rUXcybgSEZinSgljm</td>\n",
       "    </tr>\n",
       "  </tbody>\n",
       "</table>\n",
       "</div>"
      ],
      "text/plain": [
       "                               title  \\\n",
       "0  Slow Cooker Chicken and Dumplings   \n",
       "1      Awesome Slow Cooker Pot Roast   \n",
       "2               Brown Sugar Meatloaf   \n",
       "3        Best Chocolate Chip Cookies   \n",
       "4  Homemade Mac and Cheese Casserole   \n",
       "\n",
       "                                         ingredients  \\\n",
       "0  (4 skinless, boneless chicken breast halves, 2...   \n",
       "1  (2 (10.75 ounce) cans condensed cream of mushr...   \n",
       "2  (1/2 cup packed brown sugar, 1/2 cup ketchup, ...   \n",
       "3  (1 cup butter, softened, 1 cup white sugar, 1 ...   \n",
       "4  (8 ounces whole wheat rotini pasta, 3 cups fre...   \n",
       "\n",
       "                                        instructions  \\\n",
       "0  Place the chicken, butter, soup, and onion in ...   \n",
       "1  In a slow cooker, mix cream of mushroom soup, ...   \n",
       "2  Preheat oven to 350 degrees F (175 degrees C)....   \n",
       "3  Preheat oven to 350 degrees F (175 degrees C)....   \n",
       "4  Preheat oven to 350 degrees F. Line a 2-quart ...   \n",
       "\n",
       "                      picture_link  \n",
       "0  55lznCYBbs2mT8BTx6BTkLhynGHzM.S  \n",
       "1  QyrvGdGNMBA2lDdciY0FjKu.77MM0Oe  \n",
       "2  LVW1DI0vtlCrpAhNSEQysE9i/7rJG56  \n",
       "3  0SO5kdWOV94j6EfAVwMMYRM3yNN8eRi  \n",
       "4  YCnbhplMgiraW4rUXcybgSEZinSgljm  "
      ]
     },
     "execution_count": 4,
     "metadata": {},
     "output_type": "execute_result"
    }
   ],
   "source": [
    "# Load the JSON files\n",
    "with open('/Users/cengwenqi/Library/CloudStorage/OneDrive-UCIrvine/recipes_raw_nosource_ar.json', 'r') as json_file:\n",
    "    data1 = json.load(json_file)\n",
    "with open('/Users/cengwenqi/Library/CloudStorage/OneDrive-UCIrvine/recipes_raw_nosource_epi.json', 'r') as json_file:\n",
    "    data2 = json.load(json_file)\n",
    "with open('/Users/cengwenqi/Library/CloudStorage/OneDrive-UCIrvine/recipes_raw_nosource_fn.json', 'r') as json_file:\n",
    "    data3 = json.load(json_file)\n",
    "\n",
    "# Remove \"ADVERTISEMENT\" from the JSON data\n",
    "def remove_advertisement(obj):\n",
    "    if isinstance(obj, str):\n",
    "        return obj.replace(\" ADVERTISEMENT\", \"\")\n",
    "    elif isinstance(obj, list):\n",
    "        return tuple(remove_advertisement(item) for item in obj)  # Convert list to tuple\n",
    "    elif isinstance(obj, dict):\n",
    "        return {key: remove_advertisement(value) for key, value in obj.items()}\n",
    "    else:\n",
    "        return obj\n",
    "\n",
    "modified_data1 = remove_advertisement(data1)\n",
    "modified_data2 = remove_advertisement(data2)\n",
    "modified_data3 = remove_advertisement(data3)\n",
    "\n",
    "# Load the modified json file\n",
    "df1 = pd.DataFrame(modified_data1)\n",
    "df2 = pd.DataFrame(modified_data2)\n",
    "df3 = pd.DataFrame(modified_data3)\n",
    "df1 = df1.transpose()\n",
    "df2 = df2.transpose()\n",
    "df3 = df3.transpose()\n",
    "df = pd.concat([df1, df2, df3])\n",
    "df.reset_index(drop=True, inplace=True)\n",
    "\n",
    "# Remove duplicates and null\n",
    "df.drop_duplicates(inplace=True)\n",
    "df.dropna(inplace=True)\n",
    "\n",
    "df.head()"
   ]
  },
  {
   "cell_type": "code",
   "execution_count": 5,
   "metadata": {},
   "outputs": [
    {
     "name": "stdout",
     "output_type": "stream",
     "text": [
      "title           0\n",
      "ingredients     0\n",
      "instructions    0\n",
      "picture_link    0\n",
      "dtype: int64\n",
      "0\n"
     ]
    }
   ],
   "source": [
    "print(df.isna().sum())\n",
    "print(df.duplicated().sum())"
   ]
  },
  {
   "cell_type": "code",
   "execution_count": 6,
   "metadata": {},
   "outputs": [],
   "source": [
    "# Remove advertisements\n",
    "def remove_advertisement(ingredients):\n",
    "    # Remove 'ADVERTISEMENT' from each string in the tuple\n",
    "    cleaned_ingredients = tuple(ingredient.replace('ADVERTISEMENT', ' ') for ingredient in ingredients)\n",
    "    return cleaned_ingredients\n",
    "\n",
    "# Apply the function to the 'ingredients' column\n",
    "df['ingredients'] = df['ingredients'].apply(remove_advertisement)"
   ]
  },
  {
   "cell_type": "markdown",
   "metadata": {},
   "source": [
    "# Extract relevant columns, combine them, and lemmatize them"
   ]
  },
  {
   "cell_type": "markdown",
   "metadata": {},
   "source": [
    "### Create Cooking Time Column"
   ]
  },
  {
   "cell_type": "code",
   "execution_count": 7,
   "metadata": {},
   "outputs": [],
   "source": [
    "# Extract cooking time from the instructions\n",
    "def extract_cooking_time(text):\n",
    "    matches = re.findall(r'\\b\\d+(?:-\\d+)?\\s*(?:minutes?|mins?|hours?|hrs?|days?)\\b', text)\n",
    "    return \", \".join(matches)\n",
    "\n",
    "df['cooking_time'] = df['instructions'].apply(extract_cooking_time)"
   ]
  },
  {
   "cell_type": "markdown",
   "metadata": {},
   "source": [
    "### Save df to import into app.py"
   ]
  },
  {
   "cell_type": "code",
   "execution_count": 8,
   "metadata": {},
   "outputs": [],
   "source": [
    "# Save combined_text to a file\n",
    "with open('df.pkl', 'wb') as f:\n",
    "    pickle.dump(df, f)"
   ]
  },
  {
   "cell_type": "markdown",
   "metadata": {},
   "source": [
    "### Preprocess text using lemmatization and spacy **(don't need to run again)**"
   ]
  },
  {
   "cell_type": "code",
   "execution_count": 12,
   "metadata": {},
   "outputs": [],
   "source": [
    "# Preprocessing function to lemmatize data\n",
    "nlp = spacy.load(\"en_core_web_sm\")\n",
    "\n",
    "def preprocess_text(text):\n",
    "    doc = nlp(text)\n",
    "    tokens = [token.lemma_ for token in doc if not token.is_stop and not token.is_punct]\n",
    "    return \" \".join(tokens)"
   ]
  },
  {
   "cell_type": "code",
   "execution_count": 16,
   "metadata": {},
   "outputs": [],
   "source": [
    "# Apply preprocessing to instructions and ingredients\n",
    "df['instructions'] = df['instructions'].apply(preprocess_text)\n",
    "df['ingredients'] = df['ingredients'].apply(lambda x: [preprocess_text(ingredient) for ingredient in x])\n",
    "\n",
    "# Combine our text data\n",
    "combined_text = df['instructions'] + \" \" + df['ingredients'].apply(lambda x: \" \".join(x)) "
   ]
  },
  {
   "cell_type": "markdown",
   "metadata": {},
   "source": [
    "### Save combined text to avoid running code again and to import into app.py **(don't need to run again)**"
   ]
  },
  {
   "cell_type": "code",
   "execution_count": 17,
   "metadata": {},
   "outputs": [],
   "source": [
    "# Save combined_text to a file\n",
    "with open('combined_text.pkl', 'wb') as f:\n",
    "    pickle.dump(combined_text, f)"
   ]
  },
  {
   "cell_type": "markdown",
   "metadata": {},
   "source": [
    "### Load combined text for future runs"
   ]
  },
  {
   "cell_type": "code",
   "execution_count": 18,
   "metadata": {},
   "outputs": [],
   "source": [
    "# Load combined_text from the file\n",
    "with open('combined_text.pkl', 'rb') as f:\n",
    "    combined_text = pickle.load(f)"
   ]
  },
  {
   "cell_type": "markdown",
   "metadata": {},
   "source": [
    "# Model Building\n",
    "## Parameter Optimization **(don't need to run again)**\n",
    "Only need to run once to get the ideal parameters"
   ]
  },
  {
   "cell_type": "code",
   "execution_count": 19,
   "metadata": {},
   "outputs": [
    {
     "name": "stderr",
     "output_type": "stream",
     "text": [
      "/Library/Frameworks/Python.framework/Versions/3.12/lib/python3.12/site-packages/sklearn/model_selection/_validation.py:993: UserWarning: Scoring failed. The score on this train-test partition for these parameters will be set to nan. Details: \n",
      "Traceback (most recent call last):\n",
      "  File \"/Library/Frameworks/Python.framework/Versions/3.12/lib/python3.12/site-packages/sklearn/model_selection/_validation.py\", line 980, in _score\n",
      "    scores = scorer(estimator, X_test, **score_params)\n",
      "             ^^^^^^^^^^^^^^^^^^^^^^^^^^^^^^^^^^^^^^^^^\n",
      "TypeError: _BaseScorer.__call__() missing 1 required positional argument: 'y_true'\n",
      "\n",
      "  warnings.warn(\n",
      "/Library/Frameworks/Python.framework/Versions/3.12/lib/python3.12/site-packages/sklearn/model_selection/_search.py:1051: UserWarning: One or more of the test scores are non-finite: [nan nan nan nan nan nan nan nan nan nan nan nan nan nan nan nan nan nan\n",
      " nan nan nan nan nan nan nan nan nan]\n",
      "  warnings.warn(\n"
     ]
    },
    {
     "name": "stdout",
     "output_type": "stream",
     "text": [
      "Best Parameters: {'svd__n_components': 50, 'tfidf__max_features': 1000, 'tfidf__ngram_range': (1, 1)}\n"
     ]
    }
   ],
   "source": [
    "# Define TF-IDF parameters grid\n",
    "param_grid = {\n",
    "    'tfidf__max_features': [1000, 5000, 10000],\n",
    "    'tfidf__ngram_range': [(1, 1), (1, 2), (1, 3)],\n",
    "    'svd__n_components': [50, 100, 200]  # Truncated SVD parameters\n",
    "}\n",
    "\n",
    "# Define pipeline\n",
    "pipeline = Pipeline([\n",
    "    ('tfidf', TfidfVectorizer()),\n",
    "    ('svd', TruncatedSVD())\n",
    "])\n",
    "\n",
    "# Perform Grid Search with Cross-Validation\n",
    "grid_search = GridSearchCV(pipeline, param_grid, cv=5, scoring='accuracy')\n",
    "grid_search.fit(combined_text)\n",
    "\n",
    "# Get best parameters\n",
    "best_params = grid_search.best_params_\n",
    "print(\"Best Parameters:\", best_params)\n",
    "\n",
    "# Apply best parameters to the pipeline\n",
    "pipeline.set_params(**best_params)\n",
    "\n",
    "# Fit the pipeline\n",
    "pipeline.fit(combined_text)\n",
    "\n",
    "# Extract the TF-IDF matrix and Truncated SVD matrix\n",
    "tfidf_matrix = pipeline.named_steps['tfidf'].transform(combined_text)\n",
    "svd_matrix = pipeline.named_steps['svd'].transform(tfidf_matrix)"
   ]
  },
  {
   "cell_type": "markdown",
   "metadata": {},
   "source": [
    "## Fitting model on data\n",
    "Use optimal parameters result from GridSearchCV in above code"
   ]
  },
  {
   "cell_type": "code",
   "execution_count": 20,
   "metadata": {},
   "outputs": [],
   "source": [
    "# Feature Extraction using TF-IDF\n",
    "tfidf = TfidfVectorizer(stop_words='english', max_features=1000)\n",
    "tfidf_matrix = tfidf.fit_transform(combined_text)\n",
    "\n",
    "# Dimensionality Reduction using TruncatedSVD\n",
    "svd = TruncatedSVD(n_components=50)\n",
    "svd_matrix = svd.fit_transform(tfidf_matrix)"
   ]
  },
  {
   "cell_type": "code",
   "execution_count": 21,
   "metadata": {},
   "outputs": [],
   "source": [
    "# Cosine Similarity Calculation\n",
    "def get_recipe_recommendations(query, tfidf_vectorizer, svd_model, data):\n",
    "    # Preprocess the query\n",
    "    query = preprocess_text(query)\n",
    "    query_vector = tfidf_vectorizer.transform([query])\n",
    "    query_svd = svd_model.transform(query_vector)\n",
    "    \n",
    "    # Calculate cosine similarity\n",
    "    similarity_scores = cosine_similarity(query_svd, svd_matrix)\n",
    "    \n",
    "    # Get index of the most similar recipe\n",
    "    top_recipe_index = np.argmax(similarity_scores)\n",
    "    \n",
    "    # Return the most similar recipe\n",
    "    return data.iloc[top_recipe_index]"
   ]
  },
  {
   "cell_type": "markdown",
   "metadata": {},
   "source": [
    "## Final Model Output"
   ]
  },
  {
   "cell_type": "code",
   "execution_count": 22,
   "metadata": {},
   "outputs": [
    {
     "name": "stdout",
     "output_type": "stream",
     "text": [
      "\u001b[1mQuestion:\u001b[0m Quick dinner recipe with chicken, broccoli, and rice under 30 minutes.\n",
      "\n",
      "\u001b[1mTitle:\u001b[0m Country Chicken and Rice Soup\n",
      "\u001b[1mIngredients:\u001b[0m\n",
      " ['2 container Minute ® ready serve White Rice', '1 cup 6 oz cook diced chicken breast', '2 cup low sodium chicken broth', '1 cup freeze mixed vegetable']\n",
      "\u001b[1mInstructions:\u001b[0m\n",
      " heat rice accord package direction medium microwave safe bowl combine chicken broth vegetable microwave high 5 minute stir rice \n",
      "  Cooks note \n",
      "  adjust ingredient base taste save leftover lunch day\n",
      "\u001b[1mTime Duration:\u001b[0m\n",
      " 5 minutes\n"
     ]
    }
   ],
   "source": [
    "# Test the recommender system\n",
    "test_question = \"Quick dinner recipe with chicken, broccoli, and rice under 30 minutes.\"\n",
    "recommended_recipe = get_recipe_recommendations(test_question, tfidf, svd, df)\n",
    "\n",
    "print(\"\\033[1mQuestion:\\033[0m\", test_question)\n",
    "print(\"\\n\\033[1mTitle:\\033[0m\", recommended_recipe['title'])\n",
    "print(\"\\033[1mIngredients:\\033[0m\\n\", recommended_recipe['ingredients'])\n",
    "print(\"\\033[1mInstructions:\\033[0m\\n\", recommended_recipe['instructions'])\n",
    "print(\"\\033[1mTime Duration:\\033[0m\\n\", recommended_recipe['cooking_time'])"
   ]
  },
  {
   "cell_type": "markdown",
   "metadata": {},
   "source": [
    "# Using Word2Vec"
   ]
  },
  {
   "cell_type": "code",
   "execution_count": 62,
   "metadata": {},
   "outputs": [],
   "source": [
    "from gensim.models import Word2Vec\n",
    "from nltk.tokenize import word_tokenize\n",
    "from nltk.corpus import stopwords\n",
    "import warnings\n",
    "warnings.simplefilter(\"ignore\")\n",
    "\n",
    "# Preprocessing function\n",
    "def preprocess_text_w2v(text):\n",
    "    # Tokenize the text\n",
    "    tokens = word_tokenize(text)\n",
    "    # Remove punctuation\n",
    "    tokens = [word.lower() for word in tokens if word.isalnum()]\n",
    "    # Remove stop words\n",
    "    stop_words = set(stopwords.words('english'))\n",
    "    tokens = [word for word in tokens if word not in stop_words]\n",
    "    return tokens\n",
    "\n",
    "# Preprocess recipe texts\n",
    "df['preprocessed_text'] = combined_text.apply(preprocess_text_w2v)\n",
    "\n",
    "# Train Word2Vec model\n",
    "word2vec_model = Word2Vec(sentences=df['preprocessed_text'], vector_size=100, window=5, min_count=1, workers=4)\n",
    "\n",
    "# Function to generate recipe embeddings\n",
    "def generate_recipe_embedding(tokens, model):\n",
    "    embeddings = [model.wv[word] for word in tokens if word in model.wv]\n",
    "    if embeddings:\n",
    "        return np.mean(embeddings, axis=0)\n",
    "    else:\n",
    "        return np.zeros(model.vector_size)\n",
    "\n",
    "# Generate recipe embeddings for all recipes\n",
    "df['recipe_embedding'] = df['preprocessed_text'].apply(lambda x: generate_recipe_embedding(x, word2vec_model))\n",
    "\n",
    "# Function to recommend recipe based on user input\n",
    "def recommend_recipe(user_input, df, model):\n",
    "    user_tokens = preprocess_text_w2v(user_input)\n",
    "    user_embedding = generate_recipe_embedding(user_tokens, model)\n",
    "    if np.any(user_embedding):\n",
    "        similarities = df['recipe_embedding'].apply(lambda x: np.dot(x, user_embedding) / (np.linalg.norm(x) * np.linalg.norm(user_embedding)))\n",
    "        max_index = similarities.idxmax()\n",
    "        return df.loc[max_index]\n",
    "    else:\n",
    "        return \"Unable to process input. Please provide valid text.\""
   ]
  },
  {
   "cell_type": "markdown",
   "metadata": {},
   "source": [
    "## Final Model Output"
   ]
  },
  {
   "cell_type": "code",
   "execution_count": 65,
   "metadata": {},
   "outputs": [
    {
     "name": "stdout",
     "output_type": "stream",
     "text": [
      "\u001b[1mQuestion:\u001b[0m Quick dinner recipe with chicken, broccoli, and rice under 30 minutes.\n",
      "\n",
      "\u001b[1mTitle:\u001b[0m Country Chicken and Rice Soup\n",
      "\u001b[1mIngredients:\u001b[0m\n",
      " ('2 containers Minute® Ready to Serve White Rice', '1 cup (6oz.) cooked, diced chicken breast', '2 cups low-sodium chicken broth', '1 cup frozen mixed vegetables')\n",
      "\u001b[1mInstructions:\u001b[0m\n",
      " Heat rice according to package directions. In medium microwave-safe bowl, combine chicken, broth and vegetables. Microwave on high for 5 minutes. Stir in rice.\n",
      "Cooks' notes:\n",
      "You can adjust the amount of ingredients based on your tastes. Save leftovers for lunch the next day!\n",
      "\u001b[1mTime Duration:\u001b[0m\n",
      " 5 minutes\n"
     ]
    }
   ],
   "source": [
    "# Example usage:\n",
    "test_question = \"Quick dinner recipe with chicken, broccoli, and rice under 30 minutes.\"\n",
    "recommended_recipe = recommend_recipe(test_question, df, word2vec_model)\n",
    "\n",
    "print(\"\\033[1mQuestion:\\033[0m\", test_question)\n",
    "print(\"\\n\\033[1mTitle:\\033[0m\", recommended_recipe['title'])\n",
    "print(\"\\033[1mIngredients:\\033[0m\\n\", recommended_recipe['ingredients'])\n",
    "print(\"\\033[1mInstructions:\\033[0m\\n\", recommended_recipe['instructions'])\n",
    "print(\"\\033[1mTime Duration:\\033[0m\\n\", recommended_recipe['cooking_time'])"
   ]
  },
  {
   "cell_type": "markdown",
   "metadata": {},
   "source": [
    "# Play around with TFIDF SVD Model vs Word2Vec Model Outputs"
   ]
  },
  {
   "cell_type": "code",
   "execution_count": 70,
   "metadata": {},
   "outputs": [
    {
     "name": "stdout",
     "output_type": "stream",
     "text": [
      "TFIDF SVD Output:\n",
      "\u001b[1mQuestion:\u001b[0m bacon, eggs, ham, cheese\n",
      "\n",
      "\u001b[1mTitle:\u001b[0m Hash Brown Potato Pie\n",
      "\u001b[1mIngredients:\u001b[0m\n",
      " ('3 cups Ore-Ida® Shredded Hash Brown Potatoes', '5 eggs', '1/2 cup milk', '1/3 cup green onions, sliced', '1/2 teaspoon salt', '1/4 teaspoon hot sauce', '1 1/2 cups shredded sharp Cheddar cheese, divided', '4 slices bacon, cooked crisp and crumbled, divided', 'ADVERTISEMENT')\n",
      "\u001b[1mInstructions:\u001b[0m Heat oven to 350 degrees F.\n",
      "Beat together eggs and milk in a medium bowl; stir in potatoes, green onions, salt and pepper sauce. Stir in 1 cup of the cheese and half of bacon. Pour into greased 9-inch pie plate or quiche dish.\n",
      "Bake 25-30 minutes or until center is set. Sprinkle remaining bacon and 1/2 cup cheese over top of pie; continue baking 3 to 4 minutes or until cheese is melted.\n",
      "\n",
      "\u001b[1mTime Duration:\u001b[0m\n",
      " 25-30 minutes, 4 minutes\n",
      "\n",
      "W2V Output:\n",
      "\u001b[1mQuestion:\u001b[0m bacon, eggs, ham, cheese\n",
      "\n",
      "\u001b[1mTitle:\u001b[0m BBQ Turkey Sandwiches\n",
      "\u001b[1mIngredients:\u001b[0m\n",
      " ('4 slices rustic Italian bread, lightly toasted', \"1/4 cup Hellmann's® or Best Foods® Real Mayonnaise\", '1/4 cup barbecue sauce', '2 cups sliced deli turkey breast or leftover turkey', '6 slices crisp-cooked bacon', '1 cup shredded Monterey Jack cheese (about 4 oz.)')\n",
      "\u001b[1mInstructions:\u001b[0m Arrange bread on baking sheet.\n",
      "Combine Hellmann's® or Best Foods® Real Mayonnaise with barbecue sauce. Spread 1/2 of the mayonnaise mixture on bread. Toss turkey with remaining mixture. Arrange turkey on bread, then top with bacon and cheese.\n",
      "Broil 1 minute or until cheese is melted.\n",
      "Tip: To add sauteed mushrooms, melt 1 tablespoon I Can't Believe It's Not Butter!® Spread in 12-inch nonstick skillet and cook 1 package (10 oz.) sliced mushrooms, stirring occasionally, 6 minutes or until golden. Season with salt and pepper to taste, then add to sandwiches before adding bacon and cheese.\n",
      "\u001b[1mTime Duration:\u001b[0m\n",
      " 1 minute, 6 minutes\n"
     ]
    }
   ],
   "source": [
    "test_question = input(\"What do you want to make?\")\n",
    "\n",
    "recommended_recipe_tfidf_svd = get_recipe_recommendations(test_question, tfidf, svd, df)\n",
    "print(\"TFIDF SVD Output:\")\n",
    "print(\"\\033[1mQuestion:\\033[0m\", test_question)\n",
    "print(\"\\n\\033[1mTitle:\\033[0m\", recommended_recipe_tfidf_svd['title'])\n",
    "print(\"\\033[1mIngredients:\\033[0m\\n\", recommended_recipe_tfidf_svd['ingredients'])\n",
    "print(\"\\033[1mInstructions:\\033[0m\", recommended_recipe_tfidf_svd['instructions'])\n",
    "print(\"\\033[1mTime Duration:\\033[0m\\n\", recommended_recipe_tfidf_svd['cooking_time'])\n",
    "\n",
    "recommended_recipe_w2v = recommend_recipe(test_question, df, word2vec_model)\n",
    "print(\"\\nW2V Output:\")\n",
    "print(\"\\033[1mQuestion:\\033[0m\", test_question)\n",
    "print(\"\\n\\033[1mTitle:\\033[0m\", recommended_recipe_w2v['title'])\n",
    "print(\"\\033[1mIngredients:\\033[0m\\n\", recommended_recipe_w2v['ingredients'])\n",
    "print(\"\\033[1mInstructions:\\033[0m\", recommended_recipe_w2v['instructions'])\n",
    "print(\"\\033[1mTime Duration:\\033[0m\\n\", recommended_recipe_w2v['cooking_time'])"
   ]
  },
  {
   "cell_type": "code",
   "execution_count": null,
   "metadata": {},
   "outputs": [],
   "source": [
    "st.title(\"Recipe Recommender System\")\n",
    "st.write(\"Welcome to the Recipe Recommender System! This system is designed to help you find the perfect recipe for your next meal. Whether you're looking for a quick dinner recipe or a healthy breakfast idea, we've got you covered!\")\n",
    "st.write(\"To get started, simply type in the ingredients you have and the amount of time you have to cook. We'll take care of the rest!\")\n"
   ]
  }
 ],
 "metadata": {
  "kernelspec": {
   "display_name": "Python 3 (ipykernel)",
   "language": "python",
   "name": "python3"
  },
  "language_info": {
   "codemirror_mode": {
    "name": "ipython",
    "version": 3
   },
   "file_extension": ".py",
   "mimetype": "text/x-python",
   "name": "python",
   "nbconvert_exporter": "python",
   "pygments_lexer": "ipython3",
   "version": "3.12.0"
  }
 },
 "nbformat": 4,
 "nbformat_minor": 4
}
